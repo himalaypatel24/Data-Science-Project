
  {
   "cell_type": "markdown",
   "metadata": {},
   "source": [
    "# Sentiment Analysis with Machine Learning(NLP):\n",
    " ## Objective : To determine the sentiment of a given review. (Negative/Positive)"
   ]
  },
  {
   "cell_type": "markdown",
   "metadata": {},
   "source": [
    "This dataset consists of reviews of fine foods from amazon.\n",
    "The data span a period of more than 10 years, including all ~500,000 reviews up to October 2012.\n",
    "\n",
    "Reviews include product and user information, ratings, and a plain text review. It also includes reviews from all other Amazon categories.\n",
    "\n",
    "Data includes :\n",
    "- Reviews from Oct 1999 - Oct 2012\n",
    "- 568,454 reviews\n",
    "- 256,059 users\n",
    "- 74,258 products\n",
    "\n",
    "Attributes :\n",
    "- ProductId : Unique identifier for the product\n",
    "- UserId : Unqiue identifier for the user\n",
    "- ProfileName : Name of customer\n",
    "- HelpfulnessNumerator : Number of users who found the review helpful\n",
    "- HelpfulnessDenominator : Number of users who indicated whether they found the review helpful or not\n",
    "- Score : Rating between 1 and 5\n",
    "- Time : Timestamp for the review\n",
    "- Summary : Brief summary of the review\n",
    "- Text : Review text"
   ]
  },
  {
   "cell_type": "code",
   "execution_count": 100,
   "metadata": {},
   "outputs": [],
   "source": [
    "import warnings\n",
    "warnings.filterwarnings(\"ignore\")                     #Ignoring unnecessory warnings\n",
    "\n",
    "import numpy as np                                  #for large and multi-dimensional arrays\n",
    "import pandas as pd                                 #for data manipulation and analysis\n",
    "import matplotlib.pyplot as plt\n",
    "import seaborn as sns                                       \n",
    "import re\n",
    "import string\n",
    "import nltk\n",
    "from nltk.corpus import stopwords                   #Stopwords corpus\n",
    "from nltk.stem import PorterStemmer                 # Stemmer\n",
    "\n",
    "from sklearn.feature_extraction.text import CountVectorizer          #For Bag of words\n",
    "from sklearn.feature_extraction.text import TfidfVectorizer          #For TF-IDF\n",
    "#from gensim.models import Word2Vec                                   #For Word2Vec\n",
    "\n",
    "\n",
    "\n",
    "\n",
    "\n"
   ]
  },
  {
   "cell_type": "code",
   "execution_count": 2,
   "metadata": {},
   "outputs": [],
   "source": [
    "temp_df=pd.read_csv(r'C:\\Desktop\\Him\\Reviews.csv')"
   ]
  },
  {
   "cell_type": "code",
   "execution_count": 3,
   "metadata": {},
   "outputs": [
    {
     "data": {
      "text/plain": [
       "(568454, 10)"
      ]
     },
     "execution_count": 3,
     "metadata": {},
     "output_type": "execute_result"
    }
   ],
   "source": [
    "temp_df.shape"
   ]
  },
  {
   "cell_type": "code",
   "execution_count": 8,
   "metadata": {},
   "outputs": [
    {
     "data": {
      "text/html": [
       "<div>\n",
       "<style scoped>\n",
       "    .dataframe tbody tr th:only-of-type {\n",
       "        vertical-align: middle;\n",
       "    }\n",
       "\n",
       "    .dataframe tbody tr th {\n",
       "        vertical-align: top;\n",
       "    }\n",
       "\n",
       "    .dataframe thead th {\n",
       "        text-align: right;\n",
       "    }\n",
       "</style>\n",
       "<table border=\"1\" class=\"dataframe\">\n",
       "  <thead>\n",
       "    <tr style=\"text-align: right;\">\n",
       "      <th></th>\n",
       "      <th>0</th>\n",
       "      <th>1</th>\n",
       "      <th>2</th>\n",
       "      <th>3</th>\n",
       "      <th>4</th>\n",
       "    </tr>\n",
       "  </thead>\n",
       "  <tbody>\n",
       "    <tr>\n",
       "      <th>Id</th>\n",
       "      <td>1</td>\n",
       "      <td>2</td>\n",
       "      <td>3</td>\n",
       "      <td>4</td>\n",
       "      <td>5</td>\n",
       "    </tr>\n",
       "    <tr>\n",
       "      <th>ProductId</th>\n",
       "      <td>B001E4KFG0</td>\n",
       "      <td>B00813GRG4</td>\n",
       "      <td>B000LQOCH0</td>\n",
       "      <td>B000UA0QIQ</td>\n",
       "      <td>B006K2ZZ7K</td>\n",
       "    </tr>\n",
       "    <tr>\n",
       "      <th>UserId</th>\n",
       "      <td>A3SGXH7AUHU8GW</td>\n",
       "      <td>A1D87F6ZCVE5NK</td>\n",
       "      <td>ABXLMWJIXXAIN</td>\n",
       "      <td>A395BORC6FGVXV</td>\n",
       "      <td>A1UQRSCLF8GW1T</td>\n",
       "    </tr>\n",
       "    <tr>\n",
       "      <th>ProfileName</th>\n",
       "      <td>delmartian</td>\n",
       "      <td>dll pa</td>\n",
       "      <td>Natalia Corres \"Natalia Corres\"</td>\n",
       "      <td>Karl</td>\n",
       "      <td>Michael D. Bigham \"M. Wassir\"</td>\n",
       "    </tr>\n",
       "    <tr>\n",
       "      <th>HelpfulnessNumerator</th>\n",
       "      <td>1</td>\n",
       "      <td>0</td>\n",
       "      <td>1</td>\n",
       "      <td>3</td>\n",
       "      <td>0</td>\n",
       "    </tr>\n",
       "    <tr>\n",
       "      <th>HelpfulnessDenominator</th>\n",
       "      <td>1</td>\n",
       "      <td>0</td>\n",
       "      <td>1</td>\n",
       "      <td>3</td>\n",
       "      <td>0</td>\n",
       "    </tr>\n",
       "    <tr>\n",
       "      <th>Score</th>\n",
       "      <td>5</td>\n",
       "      <td>1</td>\n",
       "      <td>4</td>\n",
       "      <td>2</td>\n",
       "      <td>5</td>\n",
       "    </tr>\n",
       "    <tr>\n",
       "      <th>Time</th>\n",
       "      <td>1303862400</td>\n",
       "      <td>1346976000</td>\n",
       "      <td>1219017600</td>\n",
       "      <td>1307923200</td>\n",
       "      <td>1350777600</td>\n",
       "    </tr>\n",
       "    <tr>\n",
       "      <th>Summary</th>\n",
       "      <td>Good Quality Dog Food</td>\n",
       "      <td>Not as Advertised</td>\n",
       "      <td>\"Delight\" says it all</td>\n",
       "      <td>Cough Medicine</td>\n",
       "      <td>Great taffy</td>\n",
       "    </tr>\n",
       "    <tr>\n",
       "      <th>Text</th>\n",
       "      <td>I have bought several of the Vitality canned d...</td>\n",
       "      <td>Product arrived labeled as Jumbo Salted Peanut...</td>\n",
       "      <td>This is a confection that has been around a fe...</td>\n",
       "      <td>If you are looking for the secret ingredient i...</td>\n",
       "      <td>Great taffy at a great price.  There was a wid...</td>\n",
       "    </tr>\n",
       "  </tbody>\n",
       "</table>\n",
       "</div>"
      ],
      "text/plain": [
       "                                                                        0  \\\n",
       "Id                                                                      1   \n",
       "ProductId                                                      B001E4KFG0   \n",
       "UserId                                                     A3SGXH7AUHU8GW   \n",
       "ProfileName                                                    delmartian   \n",
       "HelpfulnessNumerator                                                    1   \n",
       "HelpfulnessDenominator                                                  1   \n",
       "Score                                                                   5   \n",
       "Time                                                           1303862400   \n",
       "Summary                                             Good Quality Dog Food   \n",
       "Text                    I have bought several of the Vitality canned d...   \n",
       "\n",
       "                                                                        1  \\\n",
       "Id                                                                      2   \n",
       "ProductId                                                      B00813GRG4   \n",
       "UserId                                                     A1D87F6ZCVE5NK   \n",
       "ProfileName                                                        dll pa   \n",
       "HelpfulnessNumerator                                                    0   \n",
       "HelpfulnessDenominator                                                  0   \n",
       "Score                                                                   1   \n",
       "Time                                                           1346976000   \n",
       "Summary                                                 Not as Advertised   \n",
       "Text                    Product arrived labeled as Jumbo Salted Peanut...   \n",
       "\n",
       "                                                                        2  \\\n",
       "Id                                                                      3   \n",
       "ProductId                                                      B000LQOCH0   \n",
       "UserId                                                      ABXLMWJIXXAIN   \n",
       "ProfileName                               Natalia Corres \"Natalia Corres\"   \n",
       "HelpfulnessNumerator                                                    1   \n",
       "HelpfulnessDenominator                                                  1   \n",
       "Score                                                                   4   \n",
       "Time                                                           1219017600   \n",
       "Summary                                             \"Delight\" says it all   \n",
       "Text                    This is a confection that has been around a fe...   \n",
       "\n",
       "                                                                        3  \\\n",
       "Id                                                                      4   \n",
       "ProductId                                                      B000UA0QIQ   \n",
       "UserId                                                     A395BORC6FGVXV   \n",
       "ProfileName                                                          Karl   \n",
       "HelpfulnessNumerator                                                    3   \n",
       "HelpfulnessDenominator                                                  3   \n",
       "Score                                                                   2   \n",
       "Time                                                           1307923200   \n",
       "Summary                                                    Cough Medicine   \n",
       "Text                    If you are looking for the secret ingredient i...   \n",
       "\n",
       "                                                                        4  \n",
       "Id                                                                      5  \n",
       "ProductId                                                      B006K2ZZ7K  \n",
       "UserId                                                     A1UQRSCLF8GW1T  \n",
       "ProfileName                                 Michael D. Bigham \"M. Wassir\"  \n",
       "HelpfulnessNumerator                                                    0  \n",
       "HelpfulnessDenominator                                                  0  \n",
       "Score                                                                   5  \n",
       "Time                                                           1350777600  \n",
       "Summary                                                       Great taffy  \n",
       "Text                    Great taffy at a great price.  There was a wid...  "
      ]
     },
     "execution_count": 8,
     "metadata": {},
     "output_type": "execute_result"
    }
   ],
   "source": [
    "temp_df.head().T"
   ]
  },
  {
   "cell_type": "markdown",
   "metadata": {},
   "source": [
    "### STEP-1 DATA CLEANING:"
   ]
  },
  {
   "cell_type": "code",
   "execution_count": 10,
   "metadata": {},
   "outputs": [
    {
     "data": {
      "text/plain": [
       "Id                         0\n",
       "ProductId                  0\n",
       "UserId                     0\n",
       "ProfileName               16\n",
       "HelpfulnessNumerator       0\n",
       "HelpfulnessDenominator     0\n",
       "Score                      0\n",
       "Time                       0\n",
       "Summary                   27\n",
       "Text                       0\n",
       "dtype: int64"
      ]
     },
     "execution_count": 10,
     "metadata": {},
     "output_type": "execute_result"
    }
   ],
   "source": [
    "temp_df.isnull().sum()"
   ]
  },
  {
   "cell_type": "code",
   "execution_count": 11,
   "metadata": {},
   "outputs": [],
   "source": [
    "temp_df.dropna(inplace=True)"
   ]
  },
  {
   "cell_type": "code",
   "execution_count": 25,
   "metadata": {},
   "outputs": [],
   "source": [
    "temp_df=temp_df.drop_duplicates(subset=['Score','Text'])"
   ]
  },
  {
   "cell_type": "code",
   "execution_count": 26,
   "metadata": {},
   "outputs": [
    {
     "data": {
      "text/plain": [
       "393661"
      ]
     },
     "execution_count": 26,
     "metadata": {},
     "output_type": "execute_result"
    }
   ],
   "source": [
    "temp_df.shape[0]"
   ]
  },
  {
   "cell_type": "code",
   "execution_count": 31,
   "metadata": {},
   "outputs": [],
   "source": [
    "####  Considering 1, 2 as Negative reviews and 4, 5 as Positive reviews. For Score = 3 we \n",
    "##    will consider it as Neutral review and lets delete the rows that are neutral, \n",
    "##    so that we can predict either Positive or Negative"
   ]
  },
  {
   "cell_type": "code",
   "execution_count": 30,
   "metadata": {},
   "outputs": [],
   "source": [
    "temp_df=temp_df[temp_df['Score']!=3]"
   ]
  },
  {
   "cell_type": "code",
   "execution_count": 32,
   "metadata": {},
   "outputs": [],
   "source": [
    "# Here we add a column 'Target' which has 1=Positive and 0= Negative Review:\n",
    "temp_df['Target']=np.where(temp_df['Score']<=2,0,1)"
   ]
  },
  {
   "cell_type": "code",
   "execution_count": 33,
   "metadata": {},
   "outputs": [
    {
     "data": {
      "text/html": [
       "<div>\n",
       "<style scoped>\n",
       "    .dataframe tbody tr th:only-of-type {\n",
       "        vertical-align: middle;\n",
       "    }\n",
       "\n",
       "    .dataframe tbody tr th {\n",
       "        vertical-align: top;\n",
       "    }\n",
       "\n",
       "    .dataframe thead th {\n",
       "        text-align: right;\n",
       "    }\n",
       "</style>\n",
       "<table border=\"1\" class=\"dataframe\">\n",
       "  <thead>\n",
       "    <tr style=\"text-align: right;\">\n",
       "      <th></th>\n",
       "      <th>Id</th>\n",
       "      <th>ProductId</th>\n",
       "      <th>UserId</th>\n",
       "      <th>ProfileName</th>\n",
       "      <th>HelpfulnessNumerator</th>\n",
       "      <th>HelpfulnessDenominator</th>\n",
       "      <th>Score</th>\n",
       "      <th>Time</th>\n",
       "      <th>Summary</th>\n",
       "      <th>Text</th>\n",
       "      <th>Target</th>\n",
       "    </tr>\n",
       "  </thead>\n",
       "  <tbody>\n",
       "    <tr>\n",
       "      <th>0</th>\n",
       "      <td>1</td>\n",
       "      <td>B001E4KFG0</td>\n",
       "      <td>A3SGXH7AUHU8GW</td>\n",
       "      <td>delmartian</td>\n",
       "      <td>1</td>\n",
       "      <td>1</td>\n",
       "      <td>5</td>\n",
       "      <td>1303862400</td>\n",
       "      <td>Good Quality Dog Food</td>\n",
       "      <td>I have bought several of the Vitality canned d...</td>\n",
       "      <td>1</td>\n",
       "    </tr>\n",
       "    <tr>\n",
       "      <th>1</th>\n",
       "      <td>2</td>\n",
       "      <td>B00813GRG4</td>\n",
       "      <td>A1D87F6ZCVE5NK</td>\n",
       "      <td>dll pa</td>\n",
       "      <td>0</td>\n",
       "      <td>0</td>\n",
       "      <td>1</td>\n",
       "      <td>1346976000</td>\n",
       "      <td>Not as Advertised</td>\n",
       "      <td>Product arrived labeled as Jumbo Salted Peanut...</td>\n",
       "      <td>0</td>\n",
       "    </tr>\n",
       "    <tr>\n",
       "      <th>2</th>\n",
       "      <td>3</td>\n",
       "      <td>B000LQOCH0</td>\n",
       "      <td>ABXLMWJIXXAIN</td>\n",
       "      <td>Natalia Corres \"Natalia Corres\"</td>\n",
       "      <td>1</td>\n",
       "      <td>1</td>\n",
       "      <td>4</td>\n",
       "      <td>1219017600</td>\n",
       "      <td>\"Delight\" says it all</td>\n",
       "      <td>This is a confection that has been around a fe...</td>\n",
       "      <td>1</td>\n",
       "    </tr>\n",
       "    <tr>\n",
       "      <th>3</th>\n",
       "      <td>4</td>\n",
       "      <td>B000UA0QIQ</td>\n",
       "      <td>A395BORC6FGVXV</td>\n",
       "      <td>Karl</td>\n",
       "      <td>3</td>\n",
       "      <td>3</td>\n",
       "      <td>2</td>\n",
       "      <td>1307923200</td>\n",
       "      <td>Cough Medicine</td>\n",
       "      <td>If you are looking for the secret ingredient i...</td>\n",
       "      <td>0</td>\n",
       "    </tr>\n",
       "    <tr>\n",
       "      <th>4</th>\n",
       "      <td>5</td>\n",
       "      <td>B006K2ZZ7K</td>\n",
       "      <td>A1UQRSCLF8GW1T</td>\n",
       "      <td>Michael D. Bigham \"M. Wassir\"</td>\n",
       "      <td>0</td>\n",
       "      <td>0</td>\n",
       "      <td>5</td>\n",
       "      <td>1350777600</td>\n",
       "      <td>Great taffy</td>\n",
       "      <td>Great taffy at a great price.  There was a wid...</td>\n",
       "      <td>1</td>\n",
       "    </tr>\n",
       "    <tr>\n",
       "      <th>...</th>\n",
       "      <td>...</td>\n",
       "      <td>...</td>\n",
       "      <td>...</td>\n",
       "      <td>...</td>\n",
       "      <td>...</td>\n",
       "      <td>...</td>\n",
       "      <td>...</td>\n",
       "      <td>...</td>\n",
       "      <td>...</td>\n",
       "      <td>...</td>\n",
       "      <td>...</td>\n",
       "    </tr>\n",
       "    <tr>\n",
       "      <th>568449</th>\n",
       "      <td>568450</td>\n",
       "      <td>B001EO7N10</td>\n",
       "      <td>A28KG5XORO54AY</td>\n",
       "      <td>Lettie D. Carter</td>\n",
       "      <td>0</td>\n",
       "      <td>0</td>\n",
       "      <td>5</td>\n",
       "      <td>1299628800</td>\n",
       "      <td>Will not do without</td>\n",
       "      <td>Great for sesame chicken..this is a good if no...</td>\n",
       "      <td>1</td>\n",
       "    </tr>\n",
       "    <tr>\n",
       "      <th>568450</th>\n",
       "      <td>568451</td>\n",
       "      <td>B003S1WTCU</td>\n",
       "      <td>A3I8AFVPEE8KI5</td>\n",
       "      <td>R. Sawyer</td>\n",
       "      <td>0</td>\n",
       "      <td>0</td>\n",
       "      <td>2</td>\n",
       "      <td>1331251200</td>\n",
       "      <td>disappointed</td>\n",
       "      <td>I'm disappointed with the flavor. The chocolat...</td>\n",
       "      <td>0</td>\n",
       "    </tr>\n",
       "    <tr>\n",
       "      <th>568451</th>\n",
       "      <td>568452</td>\n",
       "      <td>B004I613EE</td>\n",
       "      <td>A121AA1GQV751Z</td>\n",
       "      <td>pksd \"pk_007\"</td>\n",
       "      <td>2</td>\n",
       "      <td>2</td>\n",
       "      <td>5</td>\n",
       "      <td>1329782400</td>\n",
       "      <td>Perfect for our maltipoo</td>\n",
       "      <td>These stars are small, so you can give 10-15 o...</td>\n",
       "      <td>1</td>\n",
       "    </tr>\n",
       "    <tr>\n",
       "      <th>568452</th>\n",
       "      <td>568453</td>\n",
       "      <td>B004I613EE</td>\n",
       "      <td>A3IBEVCTXKNOH</td>\n",
       "      <td>Kathy A. Welch \"katwel\"</td>\n",
       "      <td>1</td>\n",
       "      <td>1</td>\n",
       "      <td>5</td>\n",
       "      <td>1331596800</td>\n",
       "      <td>Favorite Training and reward treat</td>\n",
       "      <td>These are the BEST treats for training and rew...</td>\n",
       "      <td>1</td>\n",
       "    </tr>\n",
       "    <tr>\n",
       "      <th>568453</th>\n",
       "      <td>568454</td>\n",
       "      <td>B001LR2CU2</td>\n",
       "      <td>A3LGQPJCZVL9UC</td>\n",
       "      <td>srfell17</td>\n",
       "      <td>0</td>\n",
       "      <td>0</td>\n",
       "      <td>5</td>\n",
       "      <td>1338422400</td>\n",
       "      <td>Great Honey</td>\n",
       "      <td>I am very satisfied ,product is as advertised,...</td>\n",
       "      <td>1</td>\n",
       "    </tr>\n",
       "  </tbody>\n",
       "</table>\n",
       "<p>363891 rows × 11 columns</p>\n",
       "</div>"
      ],
      "text/plain": [
       "            Id   ProductId          UserId                      ProfileName  \\\n",
       "0            1  B001E4KFG0  A3SGXH7AUHU8GW                       delmartian   \n",
       "1            2  B00813GRG4  A1D87F6ZCVE5NK                           dll pa   \n",
       "2            3  B000LQOCH0   ABXLMWJIXXAIN  Natalia Corres \"Natalia Corres\"   \n",
       "3            4  B000UA0QIQ  A395BORC6FGVXV                             Karl   \n",
       "4            5  B006K2ZZ7K  A1UQRSCLF8GW1T    Michael D. Bigham \"M. Wassir\"   \n",
       "...        ...         ...             ...                              ...   \n",
       "568449  568450  B001EO7N10  A28KG5XORO54AY                 Lettie D. Carter   \n",
       "568450  568451  B003S1WTCU  A3I8AFVPEE8KI5                        R. Sawyer   \n",
       "568451  568452  B004I613EE  A121AA1GQV751Z                    pksd \"pk_007\"   \n",
       "568452  568453  B004I613EE   A3IBEVCTXKNOH          Kathy A. Welch \"katwel\"   \n",
       "568453  568454  B001LR2CU2  A3LGQPJCZVL9UC                         srfell17   \n",
       "\n",
       "        HelpfulnessNumerator  HelpfulnessDenominator  Score        Time  \\\n",
       "0                          1                       1      5  1303862400   \n",
       "1                          0                       0      1  1346976000   \n",
       "2                          1                       1      4  1219017600   \n",
       "3                          3                       3      2  1307923200   \n",
       "4                          0                       0      5  1350777600   \n",
       "...                      ...                     ...    ...         ...   \n",
       "568449                     0                       0      5  1299628800   \n",
       "568450                     0                       0      2  1331251200   \n",
       "568451                     2                       2      5  1329782400   \n",
       "568452                     1                       1      5  1331596800   \n",
       "568453                     0                       0      5  1338422400   \n",
       "\n",
       "                                   Summary  \\\n",
       "0                    Good Quality Dog Food   \n",
       "1                        Not as Advertised   \n",
       "2                    \"Delight\" says it all   \n",
       "3                           Cough Medicine   \n",
       "4                              Great taffy   \n",
       "...                                    ...   \n",
       "568449                 Will not do without   \n",
       "568450                        disappointed   \n",
       "568451            Perfect for our maltipoo   \n",
       "568452  Favorite Training and reward treat   \n",
       "568453                         Great Honey   \n",
       "\n",
       "                                                     Text  Target  \n",
       "0       I have bought several of the Vitality canned d...       1  \n",
       "1       Product arrived labeled as Jumbo Salted Peanut...       0  \n",
       "2       This is a confection that has been around a fe...       1  \n",
       "3       If you are looking for the secret ingredient i...       0  \n",
       "4       Great taffy at a great price.  There was a wid...       1  \n",
       "...                                                   ...     ...  \n",
       "568449  Great for sesame chicken..this is a good if no...       1  \n",
       "568450  I'm disappointed with the flavor. The chocolat...       0  \n",
       "568451  These stars are small, so you can give 10-15 o...       1  \n",
       "568452  These are the BEST treats for training and rew...       1  \n",
       "568453  I am very satisfied ,product is as advertised,...       1  \n",
       "\n",
       "[363891 rows x 11 columns]"
      ]
     },
     "execution_count": 33,
     "metadata": {},
     "output_type": "execute_result"
    }
   ],
   "source": [
    "temp_df"
   ]
  },
  {
   "cell_type": "code",
   "execution_count": 48,
   "metadata": {},
   "outputs": [],
   "source": [
    "temp_df=temp_df[temp_df['HelpfulnessNumerator']<= temp_df['HelpfulnessDenominator']]"
   ]
  },
  {
   "cell_type": "code",
   "execution_count": 49,
   "metadata": {},
   "outputs": [
    {
     "data": {
      "text/html": [
       "<div>\n",
       "<style scoped>\n",
       "    .dataframe tbody tr th:only-of-type {\n",
       "        vertical-align: middle;\n",
       "    }\n",
       "\n",
       "    .dataframe tbody tr th {\n",
       "        vertical-align: top;\n",
       "    }\n",
       "\n",
       "    .dataframe thead th {\n",
       "        text-align: right;\n",
       "    }\n",
       "</style>\n",
       "<table border=\"1\" class=\"dataframe\">\n",
       "  <thead>\n",
       "    <tr style=\"text-align: right;\">\n",
       "      <th></th>\n",
       "      <th>Id</th>\n",
       "      <th>ProductId</th>\n",
       "      <th>UserId</th>\n",
       "      <th>ProfileName</th>\n",
       "      <th>HelpfulnessNumerator</th>\n",
       "      <th>HelpfulnessDenominator</th>\n",
       "      <th>Score</th>\n",
       "      <th>Time</th>\n",
       "      <th>Summary</th>\n",
       "      <th>Text</th>\n",
       "      <th>Target</th>\n",
       "    </tr>\n",
       "  </thead>\n",
       "  <tbody>\n",
       "    <tr>\n",
       "      <th>0</th>\n",
       "      <td>1</td>\n",
       "      <td>B001E4KFG0</td>\n",
       "      <td>A3SGXH7AUHU8GW</td>\n",
       "      <td>delmartian</td>\n",
       "      <td>1</td>\n",
       "      <td>1</td>\n",
       "      <td>5</td>\n",
       "      <td>1303862400</td>\n",
       "      <td>Good Quality Dog Food</td>\n",
       "      <td>I have bought several of the Vitality canned d...</td>\n",
       "      <td>1</td>\n",
       "    </tr>\n",
       "    <tr>\n",
       "      <th>1</th>\n",
       "      <td>2</td>\n",
       "      <td>B00813GRG4</td>\n",
       "      <td>A1D87F6ZCVE5NK</td>\n",
       "      <td>dll pa</td>\n",
       "      <td>0</td>\n",
       "      <td>0</td>\n",
       "      <td>1</td>\n",
       "      <td>1346976000</td>\n",
       "      <td>Not as Advertised</td>\n",
       "      <td>Product arrived labeled as Jumbo Salted Peanut...</td>\n",
       "      <td>0</td>\n",
       "    </tr>\n",
       "    <tr>\n",
       "      <th>2</th>\n",
       "      <td>3</td>\n",
       "      <td>B000LQOCH0</td>\n",
       "      <td>ABXLMWJIXXAIN</td>\n",
       "      <td>Natalia Corres \"Natalia Corres\"</td>\n",
       "      <td>1</td>\n",
       "      <td>1</td>\n",
       "      <td>4</td>\n",
       "      <td>1219017600</td>\n",
       "      <td>\"Delight\" says it all</td>\n",
       "      <td>This is a confection that has been around a fe...</td>\n",
       "      <td>1</td>\n",
       "    </tr>\n",
       "    <tr>\n",
       "      <th>3</th>\n",
       "      <td>4</td>\n",
       "      <td>B000UA0QIQ</td>\n",
       "      <td>A395BORC6FGVXV</td>\n",
       "      <td>Karl</td>\n",
       "      <td>3</td>\n",
       "      <td>3</td>\n",
       "      <td>2</td>\n",
       "      <td>1307923200</td>\n",
       "      <td>Cough Medicine</td>\n",
       "      <td>If you are looking for the secret ingredient i...</td>\n",
       "      <td>0</td>\n",
       "    </tr>\n",
       "    <tr>\n",
       "      <th>4</th>\n",
       "      <td>5</td>\n",
       "      <td>B006K2ZZ7K</td>\n",
       "      <td>A1UQRSCLF8GW1T</td>\n",
       "      <td>Michael D. Bigham \"M. Wassir\"</td>\n",
       "      <td>0</td>\n",
       "      <td>0</td>\n",
       "      <td>5</td>\n",
       "      <td>1350777600</td>\n",
       "      <td>Great taffy</td>\n",
       "      <td>Great taffy at a great price.  There was a wid...</td>\n",
       "      <td>1</td>\n",
       "    </tr>\n",
       "    <tr>\n",
       "      <th>...</th>\n",
       "      <td>...</td>\n",
       "      <td>...</td>\n",
       "      <td>...</td>\n",
       "      <td>...</td>\n",
       "      <td>...</td>\n",
       "      <td>...</td>\n",
       "      <td>...</td>\n",
       "      <td>...</td>\n",
       "      <td>...</td>\n",
       "      <td>...</td>\n",
       "      <td>...</td>\n",
       "    </tr>\n",
       "    <tr>\n",
       "      <th>568449</th>\n",
       "      <td>568450</td>\n",
       "      <td>B001EO7N10</td>\n",
       "      <td>A28KG5XORO54AY</td>\n",
       "      <td>Lettie D. Carter</td>\n",
       "      <td>0</td>\n",
       "      <td>0</td>\n",
       "      <td>5</td>\n",
       "      <td>1299628800</td>\n",
       "      <td>Will not do without</td>\n",
       "      <td>Great for sesame chicken..this is a good if no...</td>\n",
       "      <td>1</td>\n",
       "    </tr>\n",
       "    <tr>\n",
       "      <th>568450</th>\n",
       "      <td>568451</td>\n",
       "      <td>B003S1WTCU</td>\n",
       "      <td>A3I8AFVPEE8KI5</td>\n",
       "      <td>R. Sawyer</td>\n",
       "      <td>0</td>\n",
       "      <td>0</td>\n",
       "      <td>2</td>\n",
       "      <td>1331251200</td>\n",
       "      <td>disappointed</td>\n",
       "      <td>I'm disappointed with the flavor. The chocolat...</td>\n",
       "      <td>0</td>\n",
       "    </tr>\n",
       "    <tr>\n",
       "      <th>568451</th>\n",
       "      <td>568452</td>\n",
       "      <td>B004I613EE</td>\n",
       "      <td>A121AA1GQV751Z</td>\n",
       "      <td>pksd \"pk_007\"</td>\n",
       "      <td>2</td>\n",
       "      <td>2</td>\n",
       "      <td>5</td>\n",
       "      <td>1329782400</td>\n",
       "      <td>Perfect for our maltipoo</td>\n",
       "      <td>These stars are small, so you can give 10-15 o...</td>\n",
       "      <td>1</td>\n",
       "    </tr>\n",
       "    <tr>\n",
       "      <th>568452</th>\n",
       "      <td>568453</td>\n",
       "      <td>B004I613EE</td>\n",
       "      <td>A3IBEVCTXKNOH</td>\n",
       "      <td>Kathy A. Welch \"katwel\"</td>\n",
       "      <td>1</td>\n",
       "      <td>1</td>\n",
       "      <td>5</td>\n",
       "      <td>1331596800</td>\n",
       "      <td>Favorite Training and reward treat</td>\n",
       "      <td>These are the BEST treats for training and rew...</td>\n",
       "      <td>1</td>\n",
       "    </tr>\n",
       "    <tr>\n",
       "      <th>568453</th>\n",
       "      <td>568454</td>\n",
       "      <td>B001LR2CU2</td>\n",
       "      <td>A3LGQPJCZVL9UC</td>\n",
       "      <td>srfell17</td>\n",
       "      <td>0</td>\n",
       "      <td>0</td>\n",
       "      <td>5</td>\n",
       "      <td>1338422400</td>\n",
       "      <td>Great Honey</td>\n",
       "      <td>I am very satisfied ,product is as advertised,...</td>\n",
       "      <td>1</td>\n",
       "    </tr>\n",
       "  </tbody>\n",
       "</table>\n",
       "<p>363889 rows × 11 columns</p>\n",
       "</div>"
      ],
      "text/plain": [
       "            Id   ProductId          UserId                      ProfileName  \\\n",
       "0            1  B001E4KFG0  A3SGXH7AUHU8GW                       delmartian   \n",
       "1            2  B00813GRG4  A1D87F6ZCVE5NK                           dll pa   \n",
       "2            3  B000LQOCH0   ABXLMWJIXXAIN  Natalia Corres \"Natalia Corres\"   \n",
       "3            4  B000UA0QIQ  A395BORC6FGVXV                             Karl   \n",
       "4            5  B006K2ZZ7K  A1UQRSCLF8GW1T    Michael D. Bigham \"M. Wassir\"   \n",
       "...        ...         ...             ...                              ...   \n",
       "568449  568450  B001EO7N10  A28KG5XORO54AY                 Lettie D. Carter   \n",
       "568450  568451  B003S1WTCU  A3I8AFVPEE8KI5                        R. Sawyer   \n",
       "568451  568452  B004I613EE  A121AA1GQV751Z                    pksd \"pk_007\"   \n",
       "568452  568453  B004I613EE   A3IBEVCTXKNOH          Kathy A. Welch \"katwel\"   \n",
       "568453  568454  B001LR2CU2  A3LGQPJCZVL9UC                         srfell17   \n",
       "\n",
       "        HelpfulnessNumerator  HelpfulnessDenominator  Score        Time  \\\n",
       "0                          1                       1      5  1303862400   \n",
       "1                          0                       0      1  1346976000   \n",
       "2                          1                       1      4  1219017600   \n",
       "3                          3                       3      2  1307923200   \n",
       "4                          0                       0      5  1350777600   \n",
       "...                      ...                     ...    ...         ...   \n",
       "568449                     0                       0      5  1299628800   \n",
       "568450                     0                       0      2  1331251200   \n",
       "568451                     2                       2      5  1329782400   \n",
       "568452                     1                       1      5  1331596800   \n",
       "568453                     0                       0      5  1338422400   \n",
       "\n",
       "                                   Summary  \\\n",
       "0                    Good Quality Dog Food   \n",
       "1                        Not as Advertised   \n",
       "2                    \"Delight\" says it all   \n",
       "3                           Cough Medicine   \n",
       "4                              Great taffy   \n",
       "...                                    ...   \n",
       "568449                 Will not do without   \n",
       "568450                        disappointed   \n",
       "568451            Perfect for our maltipoo   \n",
       "568452  Favorite Training and reward treat   \n",
       "568453                         Great Honey   \n",
       "\n",
       "                                                     Text  Target  \n",
       "0       I have bought several of the Vitality canned d...       1  \n",
       "1       Product arrived labeled as Jumbo Salted Peanut...       0  \n",
       "2       This is a confection that has been around a fe...       1  \n",
       "3       If you are looking for the secret ingredient i...       0  \n",
       "4       Great taffy at a great price.  There was a wid...       1  \n",
       "...                                                   ...     ...  \n",
       "568449  Great for sesame chicken..this is a good if no...       1  \n",
       "568450  I'm disappointed with the flavor. The chocolat...       0  \n",
       "568451  These stars are small, so you can give 10-15 o...       1  \n",
       "568452  These are the BEST treats for training and rew...       1  \n",
       "568453  I am very satisfied ,product is as advertised,...       1  \n",
       "\n",
       "[363889 rows x 11 columns]"
      ]
     },
     "execution_count": 49,
     "metadata": {},
     "output_type": "execute_result"
    }
   ],
   "source": [
    "temp_df"
   ]
  },
  {
   "cell_type": "code",
   "execution_count": 52,
   "metadata": {},
   "outputs": [
    {
     "data": {
      "text/plain": [
       "1    306810\n",
       "0     57079\n",
       "Name: Target, dtype: int64"
      ]
     },
     "execution_count": 52,
     "metadata": {},
     "output_type": "execute_result"
    }
   ],
   "source": [
    "temp_df['Target'].value_counts()"
   ]
  },
  {
   "cell_type": "code",
   "execution_count": 54,
   "metadata": {},
   "outputs": [
    {
     "name": "stderr",
     "output_type": "stream",
     "text": [
      "C:\\Users\\Rose Garden Inn\\anaconda3\\lib\\site-packages\\seaborn\\_decorators.py:36: FutureWarning: Pass the following variable as a keyword arg: x. From version 0.12, the only valid positional argument will be `data`, and passing other arguments without an explicit keyword will result in an error or misinterpretation.\n",
      "  warnings.warn(\n"
     ]
    },
    {
     "data": {
      "text/plain": [
       "<AxesSubplot:xlabel='Target', ylabel='count'>"
      ]
     },
     "execution_count": 54,
     "metadata": {},
     "output_type": "execute_result"
    },
    {
     "data": {
      "image/png": "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\n",
      "text/plain": [
       "<Figure size 432x288 with 1 Axes>"
      ]
     },
     "metadata": {
      "needs_background": "light"
     },
     "output_type": "display_data"
    }
   ],
   "source": [
    "sns.countplot(temp_df['Target'])"
   ]
  },
  {
   "cell_type": "markdown",
   "metadata": {},
   "source": [
    "Since we have huge data, since it might be difficult to train in kernel, I will reduce data size of 100K rows. To balance classes, i have selected equal samples from each class."
   ]
  },
  {
   "cell_type": "code",
   "execution_count": 57,
   "metadata": {},
   "outputs": [],
   "source": [
    "df_pos=temp_df[temp_df['Target']==1][:50000]\n",
    "df_neg=temp_df[temp_df['Target']==0][:50000]"
   ]
  },
  {
   "cell_type": "code",
   "execution_count": 67,
   "metadata": {},
   "outputs": [],
   "source": [
    "df=pd.concat([df_pos,df_neg])"
   ]
  },
  {
   "cell_type": "code",
   "execution_count": 69,
   "metadata": {},
   "outputs": [
    {
     "data": {
      "text/plain": [
       "1    50000\n",
       "0    50000\n",
       "Name: Target, dtype: int64"
      ]
     },
     "execution_count": 69,
     "metadata": {},
     "output_type": "execute_result"
    }
   ],
   "source": [
    "df['Target'].value_counts()"
   ]
  },
  {
   "cell_type": "markdown",
   "metadata": {},
   "source": [
    "### STEP 2- Data Pre-processing:"
   ]
  },
  {
   "cell_type": "code",
   "execution_count": 73,
   "metadata": {},
   "outputs": [],
   "source": [
    "from nltk.corpus import stopwords\n",
    "from nltk.tokenize import word_tokenize"
   ]
  },
  {
   "cell_type": "code",
   "execution_count": 79,
   "metadata": {},
   "outputs": [],
   "source": [
    "stop_words=stopwords.words('english')"
   ]
  },
  {
   "cell_type": "code",
   "execution_count": 81,
   "metadata": {},
   "outputs": [
    {
     "data": {
      "text/plain": [
       "179"
      ]
     },
     "execution_count": 81,
     "metadata": {},
     "output_type": "execute_result"
    }
   ],
   "source": [
    "len(stop_words)"
   ]
  },
  {
   "cell_type": "code",
   "execution_count": 91,
   "metadata": {},
   "outputs": [],
   "source": [
    "from nltk.tokenize import word_tokenize"
   ]
  },
  {
   "cell_type": "code",
   "execution_count": 101,
   "metadata": {},
   "outputs": [],
   "source": [
    "#stemming object\n",
    "stemmer = PorterStemmer()\n",
    "\n",
    "# ---------------------------------------------\n",
    "HTMLTAGS = re.compile('<.*?>')\n",
    "table = str.maketrans(dict.fromkeys(string.punctuation))\n",
    "remove_digits = str.maketrans('', '', string.digits)\n",
    "MULTIPLE_WHITESPACE = re.compile(r\"\\s+\")\n",
    "# ---------------------------------------------\n",
    "def preprocessor(review):\n",
    "    # remove html tags\n",
    "    review = HTMLTAGS.sub(r'', review)\n",
    "\n",
    "    # remove puncutuation\n",
    "    review = review.translate(table)\n",
    "    \n",
    "    # remove digits\n",
    "    review = review.translate(remove_digits)\n",
    "    \n",
    "    # lower case all letters\n",
    "    review = review.lower()\n",
    "    \n",
    "    # replace multiple white spaces with single space\n",
    "    review = MULTIPLE_WHITESPACE.sub(\" \", review).strip()\n",
    "    \n",
    "    # remove stop words\n",
    "    review = [word for word in review.split()\n",
    "              if word not in stop_words]\n",
    "    \n",
    "    # stemming\n",
    "    review = ' '.join([stemmer.stem(word) for word in review])\n",
    "    \n",
    "    return review"
   ]
  },
  {
   "cell_type": "code",
   "execution_count": 105,
   "metadata": {},
   "outputs": [
    {
     "data": {
      "text/html": [
       "<div>\n",
       "<style scoped>\n",
       "    .dataframe tbody tr th:only-of-type {\n",
       "        vertical-align: middle;\n",
       "    }\n",
       "\n",
       "    .dataframe tbody tr th {\n",
       "        vertical-align: top;\n",
       "    }\n",
       "\n",
       "    .dataframe thead th {\n",
       "        text-align: right;\n",
       "    }\n",
       "</style>\n",
       "<table border=\"1\" class=\"dataframe\">\n",
       "  <thead>\n",
       "    <tr style=\"text-align: right;\">\n",
       "      <th></th>\n",
       "      <th>Text</th>\n",
       "      <th>Target</th>\n",
       "    </tr>\n",
       "  </thead>\n",
       "  <tbody>\n",
       "    <tr>\n",
       "      <th>0</th>\n",
       "      <td>I have bought several of the Vitality canned d...</td>\n",
       "      <td>1</td>\n",
       "    </tr>\n",
       "    <tr>\n",
       "      <th>2</th>\n",
       "      <td>This is a confection that has been around a fe...</td>\n",
       "      <td>1</td>\n",
       "    </tr>\n",
       "    <tr>\n",
       "      <th>4</th>\n",
       "      <td>Great taffy at a great price.  There was a wid...</td>\n",
       "      <td>1</td>\n",
       "    </tr>\n",
       "    <tr>\n",
       "      <th>5</th>\n",
       "      <td>I got a wild hair for taffy and ordered this f...</td>\n",
       "      <td>1</td>\n",
       "    </tr>\n",
       "    <tr>\n",
       "      <th>6</th>\n",
       "      <td>This saltwater taffy had great flavors and was...</td>\n",
       "      <td>1</td>\n",
       "    </tr>\n",
       "    <tr>\n",
       "      <th>...</th>\n",
       "      <td>...</td>\n",
       "      <td>...</td>\n",
       "    </tr>\n",
       "    <tr>\n",
       "      <th>481672</th>\n",
       "      <td>If you used to use Soy Vey's Cha Cha Chinese C...</td>\n",
       "      <td>0</td>\n",
       "    </tr>\n",
       "    <tr>\n",
       "      <th>481678</th>\n",
       "      <td>I was surprised that the product came in a rec...</td>\n",
       "      <td>0</td>\n",
       "    </tr>\n",
       "    <tr>\n",
       "      <th>481689</th>\n",
       "      <td>Calhoun Bend Mill - Peach Cobbler mix...&lt;br /&gt;...</td>\n",
       "      <td>0</td>\n",
       "    </tr>\n",
       "    <tr>\n",
       "      <th>481700</th>\n",
       "      <td>I ordered this hoping to get a sampler of the ...</td>\n",
       "      <td>0</td>\n",
       "    </tr>\n",
       "    <tr>\n",
       "      <th>481701</th>\n",
       "      <td>I was looking forward to trying the different ...</td>\n",
       "      <td>0</td>\n",
       "    </tr>\n",
       "  </tbody>\n",
       "</table>\n",
       "<p>100000 rows × 2 columns</p>\n",
       "</div>"
      ],
      "text/plain": [
       "                                                     Text  Target\n",
       "0       I have bought several of the Vitality canned d...       1\n",
       "2       This is a confection that has been around a fe...       1\n",
       "4       Great taffy at a great price.  There was a wid...       1\n",
       "5       I got a wild hair for taffy and ordered this f...       1\n",
       "6       This saltwater taffy had great flavors and was...       1\n",
       "...                                                   ...     ...\n",
       "481672  If you used to use Soy Vey's Cha Cha Chinese C...       0\n",
       "481678  I was surprised that the product came in a rec...       0\n",
       "481689  Calhoun Bend Mill - Peach Cobbler mix...<br />...       0\n",
       "481700  I ordered this hoping to get a sampler of the ...       0\n",
       "481701  I was looking forward to trying the different ...       0\n",
       "\n",
       "[100000 rows x 2 columns]"
      ]
     },
     "execution_count": 105,
     "metadata": {},
     "output_type": "execute_result"
    }
   ],
   "source": [
    "df=df[['Text','Target']]\n",
    "df"
   ]
  },
  {
   "cell_type": "code",
   "execution_count": 108,
   "metadata": {},
   "outputs": [],
   "source": [
    "df['txt']=df['Text'].apply(preprocessor)"
   ]
  },
  {
   "cell_type": "code",
   "execution_count": 122,
   "metadata": {},
   "outputs": [
    {
     "data": {
      "text/plain": [
       "'I have bought several of the Vitality canned dog food products and have found them all to be of good quality. The product looks more like a stew than a processed meat and it smells better. My Labrador is finicky and she appreciates this product better than  most.'"
      ]
     },
     "execution_count": 122,
     "metadata": {},
     "output_type": "execute_result"
    }
   ],
   "source": [
    "pd.set_option('max_columns',None)\n",
    "df['Text'].iloc[0]"
   ]
  },
  {
   "cell_type": "code",
   "execution_count": 123,
   "metadata": {},
   "outputs": [
    {
     "data": {
      "text/plain": [
       "'bought sever vital can dog food product found good qualiti product look like stew process meat smell better labrador finicki appreci product better'"
      ]
     },
     "execution_count": 123,
     "metadata": {},
     "output_type": "execute_result"
    }
   ],
   "source": [
    "df['txt'].iloc[0]"
   ]
  },
  {
   "cell_type": "code",
   "execution_count": 136,
   "metadata": {},
   "outputs": [],
   "source": [
    "X=df['txt']\n",
    "y=df['Target']\n"
   ]
  },
  {
   "cell_type": "markdown",
   "metadata": {},
   "source": [
    "### STEP-3 Vectorization:"
   ]
  },
  {
   "cell_type": "markdown",
   "metadata": {},
   "source": [
    "- Bag of Words\n",
    "- Binary Bag of Words\n",
    "- Bigram, Ngram\n",
    "- TF-IDF( Term Frequency - Inverse Document Frequency)\n",
    "- Word2Vec\n",
    "- Avg-Word2Vec\n",
    "- TF-IDF Word2Vec\n",
    "\n",
    "1. BAG OF WORDS\n",
    "\n",
    "In BoW we construct a dictionary that contains set of all unique words from our text review dataset.The frequency of the word is counted here. if there are d unique words in our dictionary then for every sentence or review the vector will be of length d and count of word from review is stored at its particular location in vector. The vector will be highly sparse in such case.\n",
    "\n",
    "Ex. pasta is tasty and pasta is good\n",
    "\n",
    "[0]....[1]............[1]...........[2]..........[2]............[1].......... <== Its vector representation ( remaining all dots will be represented as zeroes)\n",
    "\n",
    "[a]..[and].....[good].......[is].......[pasta]....[tasty]....... <==This is dictionary .\n",
    "\n",
    "Using scikit-learn's CountVectorizer we can get the BoW and check out all the parameters it consists of, one of them is max_features =5000 it tells about to consider only top 5000 most frequently repeated words to place in a dictionary. so our dictionary length or vector length will be only 5000\n",
    "\n",
    "2. BINARY BAG OF WORDS\n",
    "\n",
    "In binary BoW, we dont count the frequency of word, we just place 1 if the word appears in the review or else 0. \n",
    "In CountVectorizer there is a parameter binary = true this makes our BoW to binary BoW.\n",
    "\n",
    "- Drawbacks of BoW/ Binary BoW:\n",
    "\n",
    "Our main objective in doing these text to vector encodings is that similar meaning text vectors should be close to each other, but in some cases this may not possible for Bow\n",
    "\n",
    "For example, if we consider two reviews This pasta is very tasty and This pasta is not tasty after stopwords removal both sentences will be converted to pasta tasty so both giving exact same meaning.\n",
    "\n",
    "The main problem is here we are not considering the front and back words related to every word, here comes Bigram and Ngram techniques.\n",
    "\n",
    "3. BI-GRAM BOW\n",
    "\n",
    "Considering pair of words for creating dictionary is Bi-Gram , Tri-Gram means three consecutive words so as NGram.\n",
    "\n",
    "CountVectorizer has a parameter ngram_range if assigned to (1,2) it considers Bi-Gram BoW\n",
    "\n",
    "But this massively increases our dictionary size\n",
    "\n",
    "4. TF-IDF\n",
    "\n",
    "Term Frequency - Inverse Document Frequency it makes sure that less importance is given to most frequent words and also considers less frequent words.\n",
    "\n",
    "Term Frequency is number of times a particular word(W) occurs in a review divided by totall number of words (Wr) in review. The term frequency value ranges from 0 to 1.\n",
    "\n",
    "Inverse Document Frequency is calculated as log(Total Number of Docs(N) / Number of Docs which contains particular word(n)). Here Docs referred as Reviews.\n",
    "\n",
    "TF-IDF is TF * IDF that is (W/Wr)*LOG(N/n)\n",
    "\n",
    "Using scikit-learn's tfidfVectorizer we can get the TF-IDF.\n",
    "\n",
    "So even here we get a TF-IDF value for every word and in some cases it may consider different meaning reviews as similar after stopwords removal. so to over come we can use BI-Gram or NGram.\n",
    "\n",
    "so to actually overcome the problem of semantical reviews having close distance we have Word2Vec\n",
    "\n",
    "5. Word2Vec\n",
    "\n",
    "Word2Vec actually takes the semantic meaning of the words and their relationships between other words. it learns all the internal relationships between the words.It represents the word in dense vector form.\n",
    "\n",
    "Using Gensim's library we have Word2Vec which takes parameters like min_count = 5 considers only if word repeats more than 5 times in entire data. size = 50 gives a vector length of size 50 and workers are cores to run this.\n",
    "\n",
    "6. Average Word2Vec\n",
    "\n",
    "Compute the Word2vec of each of the words and add the vectors of each words of the sentence and divide the vector with the number of words of the sentence.Simply Averaging the Word2Vec of all words."
   ]
  },
  {
   "cell_type": "code",
   "execution_count": 138,
   "metadata": {},
   "outputs": [],
   "source": [
    "from sklearn.model_selection import train_test_split\n"
   ]
  },
  {
   "cell_type": "code",
   "execution_count": 176,
   "metadata": {},
   "outputs": [],
   "source": [
    "X_train, X_test, y_train, y_test = train_test_split(X, y, test_size=0.30, random_state=1, stratify=y)\n"
   ]
  },
  {
   "cell_type": "code",
   "execution_count": 150,
   "metadata": {},
   "outputs": [],
   "source": [
    "def Vect_Model(vectmodel,X):\n",
    "    data = vectmodel.fit_transform(X) \n",
    "    return data"
   ]
  },
  {
   "cell_type": "code",
   "execution_count": 177,
   "metadata": {},
   "outputs": [],
   "source": [
    "#Bag Of Words:\n",
    "bow_vectorizer = CountVectorizer(max_features=10000)\n",
    "bow_vectorizer.fit(X_train)\n",
    "\n",
    "# transform\n",
    "bow_X_train = bow_vectorizer.transform(X_train)\n",
    "bow_X_test = bow_vectorizer.transform(X_test)\n"
   ]
  },
  {
   "cell_type": "code",
   "execution_count": 178,
   "metadata": {},
   "outputs": [],
   "source": [
    "# TF-IDF Vectorizer:\n",
    "tfidf_vectorizer = TfidfVectorizer(max_features=10000)\n",
    "tfidf_vectorizer.fit(X_train)\n",
    "\n",
    "# transform\n",
    "tfidf_X_train = tfidf_vectorizer.transform(X_train)\n",
    "tfidf_X_test = tfidf_vectorizer.transform(X_test)"
   ]
  },
  {
   "cell_type": "code",
   "execution_count": 161,
   "metadata": {},
   "outputs": [],
   "source": [
    "def train_and_eval(model,trainX,trainY,testX,testY):\n",
    "\n",
    "    # training\n",
    "    m= model.fit(trainX, trainY)\n",
    "\n",
    "    # predictions\n",
    "    y_preds_train = m.predict(trainX)\n",
    "    y_preds_test = m.predict(testX)\n",
    "\n",
    "    # evaluation\n",
    "    print()\n",
    "    print(model)\n",
    "    print(f\"Train accuracy score : {accuracy_score(y_train, y_preds_train)}\")\n",
    "    print(f\"Test accuracy score : {accuracy_score(y_test, y_preds_test)}\")\n",
    "    print('\\n',40*'-')"
   ]
  },
  {
   "cell_type": "markdown",
   "metadata": {},
   "source": [
    "### STEP4- Model Buildiong:"
   ]
  },
  {
   "cell_type": "code",
   "execution_count": 184,
   "metadata": {},
   "outputs": [
    {
     "name": "stdout",
     "output_type": "stream",
     "text": [
      "\n",
      "LogisticRegression(C=0.1, max_iter=500, random_state=1)\n",
      "Train accuracy score : 0.9041\n",
      "Test accuracy score : 0.8807\n",
      "\n",
      " ----------------------------------------\n"
     ]
    }
   ],
   "source": [
    "#Logistic Regression:\n",
    "from sklearn.linear_model import LogisticRegression\n",
    "from sklearn.metrics import accuracy_score\n",
    "\n",
    "\n",
    "log_model = LogisticRegression(C=0.1, max_iter=500, random_state=1)\n",
    "    \n",
    "# Train and evaluate model\n",
    "train_and_eval(model=log_model,\n",
    "                   trainX=bow_X_train,\n",
    "                   trainY=y_train,\n",
    "                   testX=bow_X_test,\n",
    "                   testY=y_test)"
   ]
  },
  {
   "cell_type": "code",
   "execution_count": 186,
   "metadata": {},
   "outputs": [
    {
     "name": "stdout",
     "output_type": "stream",
     "text": [
      "\n",
      "MultinomialNB(alpha=0.8)\n",
      "Train accuracy score : 0.8743857142857143\n",
      "Test accuracy score : 0.8602333333333333\n",
      "\n",
      " ----------------------------------------\n"
     ]
    }
   ],
   "source": [
    "#Naive_bayes:\n",
    "from sklearn.naive_bayes import MultinomialNB\n",
    "nb_model = MultinomialNB(alpha=0.8)\n",
    "\n",
    "# Train and evaluate model\n",
    "train_and_eval(model=nb_model,\n",
    "                   trainX=bow_X_train,\n",
    "                   trainY=y_train,\n",
    "                   testX=bow_X_test,\n",
    "                   testY=y_test)"
   ]
  },
  {
   "cell_type": "code",
   "execution_count": 191,
   "metadata": {},
   "outputs": [
    {
     "name": "stdout",
     "output_type": "stream",
     "text": [
      "\n",
      "LogisticRegression(C=0.1, max_iter=500, random_state=1)\n",
      "Train accuracy score : 0.8772571428571428\n",
      "Test accuracy score : 0.8695333333333334\n",
      "\n",
      " ----------------------------------------\n"
     ]
    }
   ],
   "source": [
    "#Logistic Regression:\n",
    "from sklearn.linear_model import LogisticRegression\n",
    "\n",
    "\n",
    "log_model = LogisticRegression(C=0.1, max_iter=500, random_state=1)\n",
    "    \n",
    "# Train and evaluate model\n",
    "train_and_eval(model=log_model,\n",
    "                   trainX=tfidf_X_train,\n",
    "                   trainY=y_train,\n",
    "                   testX=tfidf_X_test,\n",
    "                   testY=y_test)"
   ]
  },
  {
   "cell_type": "code",
   "execution_count": 190,
   "metadata": {},
   "outputs": [
    {
     "name": "stdout",
     "output_type": "stream",
     "text": [
      "\n",
      "MultinomialNB(alpha=0.8)\n",
      "Train accuracy score : 0.8785\n",
      "Test accuracy score : 0.8616666666666667\n",
      "\n",
      " ----------------------------------------\n"
     ]
    }
   ],
   "source": [
    "#Naive_bayes:\n",
    "from sklearn.naive_bayes import MultinomialNB\n",
    "nb_model = MultinomialNB(alpha=0.8)\n",
    "    \n",
    "# Train and evaluate model\n",
    "train_and_eval(model=log_model,\n",
    "                   trainX=tfidf_X_train,\n",
    "                   trainY=y_train,\n",
    "                   testX=tfidf_X_test,\n",
    "                   testY=y_test)"
   ]
  },
  {
   "cell_type": "code",
   "execution_count": 198,
   "metadata": {},
   "outputs": [
    {
     "name": "stdout",
     "output_type": "stream",
     "text": [
      "\n",
      "LogisticRegression(C=0.1, max_iter=500, random_state=1)\n",
      "Train accuracy score : 0.8772571428571428\n",
      "Test accuracy score : 0.8695333333333334\n",
      "\n",
      " ----------------------------------------\n"
     ]
    }
   ],
   "source": [
    "m= LogisticRegression(C=0.1, max_iter=500, random_state=1).fit(tfidf_X_train, y_train)\n",
    "\n",
    "# predictions\n",
    "y_preds_train = m.predict(tfidf_X_train)\n",
    "y_preds_test = m.predict(tfidf_X_test)\n",
    "\n",
    "# evaluation\n",
    "print()\n",
    "print(m)\n",
    "print(f\"Train accuracy score : {accuracy_score(y_train, y_preds_train)}\")\n",
    "print(f\"Test accuracy score : {accuracy_score(y_test, y_preds_test)}\")\n",
    "print('\\n',40*'-')"
   ]
  },
  {
   "cell_type": "code",
   "execution_count": 199,
   "metadata": {},
   "outputs": [
    {
     "data": {
      "text/plain": [
       "array([[13164,  1836],\n",
       "       [ 2078, 12922]], dtype=int64)"
      ]
     },
     "execution_count": 199,
     "metadata": {},
     "output_type": "execute_result"
    }
   ],
   "source": [
    "# Here Our Logistisc Model with Tf/Idf gives better accuracy:\n",
    "from sklearn.metrics import confusion_matrix\n",
    "cm=confusion_matrix(y_test,y_preds_test)\n",
    "cm"
   ]
  },
  {
   "cell_type": "code",
   "execution_count": 235,
   "metadata": {},
   "outputs": [],
   "source": [
    "labels=['Negative','Positive']"
   ]
  },
  {
   "cell_type": "code",
   "execution_count": 236,
   "metadata": {},
   "outputs": [
    {
     "data": {
      "text/plain": [
       "<AxesSubplot:>"
      ]
     },
     "execution_count": 236,
     "metadata": {},
     "output_type": "execute_result"
    },
    {
     "data": {
      "image/png": "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\n",
      "text/plain": [
       "<Figure size 432x288 with 1 Axes>"
      ]
     },
     "metadata": {
      "needs_background": "light"
     },
     "output_type": "display_data"
    }
   ],
   "source": [
    "sns.heatmap(cm, annot=True, cmap='Blues', cbar=False, fmt='.2f', xticklabels=labels, yticklabels=labels)"
   ]
  },
  {
   "cell_type": "markdown",
   "metadata": {},
   "source": [
    "### STEP 5- Model Deploment:"
   ]
  },
  {
   "cell_type": "code",
   "execution_count": 212,
   "metadata": {},
   "outputs": [],
   "source": [
    "import pickle\n",
    "# Save model and transformer:\n",
    "filepath=(r'C:\\Users\\Rose Garden Inn\\Desktop\\Him\\vectorizer.pkl')\n",
    "pickle.dump(tfidf_vectorizer,open(filepath,'wb'))"
   ]
  },
  {
   "cell_type": "code",
   "execution_count": 213,
   "metadata": {},
   "outputs": [],
   "source": [
    "filepath=(r'C:\\Users\\Rose Garden Inn\\Desktop\\Him\\Lmodel.pkl')\n",
    "pickle.dump(m,open(filepath,'wb'))"
   ]
  },
  {
   "cell_type": "code",
   "execution_count": 220,
   "metadata": {},
   "outputs": [],
   "source": [
    "# Lets Check on Our Model:\n",
    "def get_sentiment(review):\n",
    "    # preprocessing\n",
    "    x = preprocessor(review)\n",
    "    #vectorization\n",
    "    x = tfidf_vectorizer.transform([x])\n",
    "    #prediction\n",
    "    y = int(m.predict(x.reshape(1,-1)))\n",
    "    if y==0:\n",
    "        return 'This is a Negative review!'\n",
    "    else:\n",
    "        return 'This is a Positive review!'"
   ]
  },
  {
   "cell_type": "code",
   "execution_count": 234,
   "metadata": {},
   "outputs": [],
   "source": [
    "review = \"\"\"This headphone set has poor sound quality: it lacks midrange, and attempts to compensate by boosting treble and bass, but in a bad way. Mids are still scooped & music sounds poor & cheap.\n",
    "The hissing white noise is intolerable, unless you like white noise then these are perfect for your youtube noise videos.\n",
    "I tested these with (remastered) Led Zeppelin, Physical Graffiti, and Hillsong United, Zion. I would've also tested with Maxim Vengerov or a Rachmaninov concerto but didn't bother after listening to two albums.\n",
    "I'm not an expert but I am a musician with sound engineer experience.)\"\"\"\n"
   ]
  },
  {
   "cell_type": "code",
   "execution_count": 233,
   "metadata": {},
   "outputs": [
    {
     "data": {
      "text/plain": [
       "'This is a Negative review!'"
      ]
     },
     "execution_count": 233,
     "metadata": {},
     "output_type": "execute_result"
    }
   ],
   "source": [
    "get_sentiment(review)"
   ]
  },
  {
   "cell_type": "code",
   "execution_count": 231,
   "metadata": {},
   "outputs": [],
   "source": [
    "r=\"\"\"Battery life, and sound quality is absolutely perfect. The earphones hold perfectly in place even during HIIT, and the sweat resistant makes it better than apple AirPods. The charging case is indeed a bit bulky, but doesn't marginalize the value of this earphones. yes, it is pricey, and could have been $50 less, but its beats!\n",
    "Update:After 10 days of usage, so far the product has lived upto the standards. Fit is snug. I've been running, and training in the 90 degree Fahrenheit sun in Louisiana, no smell and issues due to sweat whatsoever. The phone call quality is still impeccable and helps reduce sound. batter life went on for unto 7 days with 90 minutes of usage everyday.\n",
    "\"\"\""
   ]
  },
  {
   "cell_type": "code",
   "execution_count": 232,
   "metadata": {},
   "outputs": [
    {
     "data": {
      "text/plain": [
       "'This is a Positive review!'"
      ]
     },
     "execution_count": 232,
     "metadata": {},
     "output_type": "execute_result"
    }
   ],
   "source": [
    "get_sentiment(r)"
   ]
  },
  {
   "cell_type": "code",
   "execution_count": null,
   "metadata": {},
   "outputs": [],
   "source": []
  }
 ],
 "metadata": {
  "kernelspec": {
   "display_name": "Python 3",
   "language": "python",
   "name": "python3"
  },
  "language_info": {
   "codemirror_mode": {
    "name": "ipython",
    "version": 3
   },
   "file_extension": ".py",
   "mimetype": "text/x-python",
   "name": "python",
   "nbconvert_exporter": "python",
   "pygments_lexer": "ipython3",
   "version": "3.8.5"
  }
 },
 "nbformat": 4,
 "nbformat_minor": 4
}
